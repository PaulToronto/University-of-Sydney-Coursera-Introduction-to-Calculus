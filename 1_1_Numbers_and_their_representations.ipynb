{
  "nbformat": 4,
  "nbformat_minor": 0,
  "metadata": {
    "colab": {
      "provenance": [],
      "toc_visible": true,
      "authorship_tag": "ABX9TyMQfsVifxDSv1y5g83/ZJzF",
      "include_colab_link": true
    },
    "kernelspec": {
      "name": "python3",
      "display_name": "Python 3"
    },
    "language_info": {
      "name": "python"
    }
  },
  "cells": [
    {
      "cell_type": "markdown",
      "metadata": {
        "id": "view-in-github",
        "colab_type": "text"
      },
      "source": [
        "<a href=\"https://colab.research.google.com/github/PaulToronto/University-of-Sydney-Coursera-Introduction-to-Calculus/blob/main/1_1_Numbers_and_their_representations.ipynb\" target=\"_parent\"><img src=\"https://colab.research.google.com/assets/colab-badge.svg\" alt=\"Open In Colab\"/></a>"
      ]
    },
    {
      "cell_type": "markdown",
      "source": [
        "# 1.1 Numbers and their representations"
      ],
      "metadata": {
        "id": "uDitllHUn982"
      }
    },
    {
      "cell_type": "code",
      "source": [
        "import sympy as sym"
      ],
      "metadata": {
        "id": "_A2KkCOFF2yL"
      },
      "execution_count": 1,
      "outputs": []
    },
    {
      "cell_type": "markdown",
      "source": [
        "## 1.1.1 Real line, decimals and significant figures"
      ],
      "metadata": {
        "id": "8_FcN6OvoFqd"
      }
    },
    {
      "cell_type": "markdown",
      "source": [
        "### Rules for handling approximations\n",
        "\n",
        "1. When adding or subtracting, quote your answer to the least number of decimal places.\n",
        "\n",
        "$$\n",
        "\\begin{align}\n",
        "9.4\\text{ cm} + 2.13\\text{ cm} &= 11.53\\text{ cm} \\\\\n",
        "&\\approx 11.5\\text{ cm}\n",
        "\\end{align}\n",
        "$$\n",
        "\n",
        "$$\n",
        "\\begin{align}\n",
        "9.4\\text{ cm} - 2.13\\text{ cm} &= 7.27\\text{ cm} \\\\\n",
        "&\\approx 7.3\\text{ cm}\n",
        "\\end{align}\n",
        "$$"
      ],
      "metadata": {
        "id": "wPZk40XhuwCa"
      }
    },
    {
      "cell_type": "markdown",
      "source": [
        "2. When multiplying or dividing, quote your answer to the least number of significant figures.\n",
        "\n",
        "$$\n",
        "\\begin{align}\n",
        "\\text{Area} &= 9.4\\text{ cm } \\times 2.13 \\text{ cm} \\\\\n",
        "&= 20.022\\text{ cm}^{2} \\\\\n",
        "&\\approx 20\\text{ cm}^{2} \\\\\n",
        "\\end{align} \n",
        "$$"
      ],
      "metadata": {
        "id": "qBm8TcPowUlh"
      }
    },
    {
      "cell_type": "markdown",
      "source": [
        "The answer above is not explicit about the number of sigificant figures. To be explicit that we want to express the answer with 2 significant figures we write:\n",
        "\n",
        "$$\n",
        "\\text{Area} = 2.0 \\times 10\\text{ cm}^{2}\n",
        "$$\n",
        "\n",
        "To indicate that we only want only 1 significant figure, we write:\n",
        "\n",
        "$$\n",
        "\\text{Area} = 2 \\times 10\\text{ cm}^{2}\n",
        "$$"
      ],
      "metadata": {
        "id": "AXkPrhSC08pp"
      }
    },
    {
      "cell_type": "markdown",
      "source": [
        "#### Example\n",
        "\n",
        "The radius of the earth is $6,370,000$ metres. How many of those 0s are significant? Only three of them, so to be explicit we express it like this: $6.37 \\times 10^{6}$ metres. \n",
        "\n"
      ],
      "metadata": {
        "id": "qq88xNXW19ga"
      }
    },
    {
      "cell_type": "markdown",
      "source": [
        "## 1.1.2 Reading: Real line, decimals and signifcant figures"
      ],
      "metadata": {
        "id": "SyfVXfJt4N2q"
      }
    },
    {
      "cell_type": "markdown",
      "source": [
        "### Selection of useful facts\n",
        "\n",
        "1. $A \\subseteq B$: A is a subset of B\n",
        "2. $A = B \\iff A \\subseteq B \\text{ and } B \\subseteq A$\n",
        "3. $A \\cap B = \\{x|x \\in A \\text{ and } x \\in B\\}$\n",
        "    - called the **intersection** of $A$ and $B$\n",
        "4. $A \\cup B = \\{x|x \\in A \\text{ or } x \\in B\\}$\n",
        "    - called the **union** of $A$ and $B$\n",
        "5. $A\\text{ \\\\ }B = \\{x|x \\in A \\text{ and } x \\not\\in B\\}$\n",
        "    - called **A slash B**\n",
        "6. $\\mathbb{N}$ is the set of **natural numbers**: $\\{0, 1, 2, 3,...\\}$\n",
        "    - closed under addition, subtraction, multiplication and division\n",
        "7. $\\mathbb{Z}$ is the set of **integers**: $\\{\\pm0, \\pm1, \\pm2, \\pm3,...\\}$\n",
        "    - closed under addition, subtraction and multiplication\n",
        "8. $\\mathbb{Q}$ is the set of **rational numbers**: $\\{a\\text{/}b|a, b \\in \\mathbb{Z}, b \\ne 0\\}$\n",
        "    - closed under addition, substraction and multiplication, and closed under division by nonzero elements\n",
        "9. **Significant figures**: the number of digits counted to the right from the leftmost positive digit\n",
        "    - $26.103$: 5 significant figures\n",
        "    - $0.00304$: 3 significant figures\n",
        "    - $0.003040$: 4 singificant figures\n",
        "10. Use **scientific notation** to avoid amiguity in the number of signifcant figures\n"
      ],
      "metadata": {
        "id": "gbdkcQEp4uVy"
      }
    },
    {
      "cell_type": "markdown",
      "source": [
        "### Example\n",
        "\n",
        "Express $\\alpha = 3.\\overline{1}4 = 3.1414...$ as a fraction.\n",
        "\n",
        "#### Solution\n",
        "\n",
        "$\n",
        "\\begin{align}\n",
        "100\\alpha  - \\alpha &= 314.\\overline{1}4 - 3.\\overline{1}4 \\\\\n",
        "&= 311\n",
        "\\end{align}\n",
        "$\n",
        "\n",
        "$\\therefore$\n",
        "\n",
        "$\n",
        "\\begin{align}\n",
        "99\\alpha = 311 \\implies \\alpha = \\frac{311}{99}\n",
        "\\end{align}\n",
        "$"
      ],
      "metadata": {
        "id": "qEfsClvWBRHM"
      }
    },
    {
      "cell_type": "markdown",
      "source": [
        "## 1.1.3 The Theorem of Pythagoras and properties of the square root of 2"
      ],
      "metadata": {
        "id": "ZB7H8ZXVK0SS"
      }
    },
    {
      "cell_type": "markdown",
      "source": [
        "### Proof that $\\sqrt{2}$ is irrational:\n",
        "\n",
        "Suppose that $\\sqrt{2}$ is rational which means that it can be expressed as a fraction, in reduced form, where $a$ and $b$ are postive integers. Since it is in reduced form, $a$ and $b$ have no common divisers.\n",
        "\n",
        "$$\n",
        "\\begin{align}\n",
        "\\sqrt{2} = \\frac{a}{b}\n",
        "&\\implies 2 = \\frac{a^{2}}{b^{2}} \\\\\n",
        "&\\implies 2b^{2} = a^{2} \\\\\n",
        "&\\implies a^{2} \\text{ is an even integer}\n",
        "\\end{align}\n",
        "$$\n",
        "\n",
        "Suppose $a$ is an odd integer, that is $a = 2k + 1$\n",
        "\n",
        "$$\n",
        "\\begin{align}\n",
        "a^{2} &= (2k + 1)^{2} \\\\\n",
        "&= 4k^{2} + 4k + 1 \\\\\n",
        "&= 2(2k^{2} + 2k) + 1 \\\\\n",
        "&\\implies a^{2} \\text{ is and odd integer}\n",
        "\\end{align}\n",
        "$$\n",
        "\n",
        "This contracts that $a$ is even.\n",
        "\n",
        "$\\therefore a$ is even, say $a = 2c$ for some integer $c$. \n",
        "\n",
        "$$\n",
        "\\begin{align}\n",
        "2b^{2} = a^{2} &\\implies \n",
        "2b^{2} = (2c)^{2} \\\\\n",
        "&\\implies 2b^{2} = 4c^{2} \\\\\n",
        "&\\implies b^{2} = 2c^{2} \\\\\n",
        "&\\implies b\\text{ is even, by the same argument that }a \\text{ is even} \\\\\n",
        "&\\implies a \\text{ and } b \\text{ have common divisor } 2\n",
        "\\end{align}\n",
        "$$\n",
        "\n",
        "But $a$ and $b$ have no common divisors.\n",
        "\n",
        "$\\therefore \\sqrt{2}$ is irrational. Q.E.D. "
      ],
      "metadata": {
        "id": "LlAvjUBKP0y9"
      }
    },
    {
      "cell_type": "markdown",
      "source": [
        "## 1.1.4 Reading: The Theorem of Pythagoras and properties of the square root of 2"
      ],
      "metadata": {
        "id": "nObDSfv_X_yX"
      }
    },
    {
      "cell_type": "markdown",
      "source": [
        "### Selection of useful facts\n",
        "\n",
        "1. **Surds**: Any expression involving square roots (or cube roots, etc.) is called a **surd expression**.\n",
        "2. **Theorem of Pytagoras**: If $c$ is the hypotenuse of a right angled triangle, and $a$ and $b$ are the other two sides, then $c^{2} = a^{2} + b^{2}$\n",
        "3. **Irrational surds**: if $n \\in \\mathbb{N}$ then $\\sqrt{n}$ is rational if an only if $n$ is a perfect square. "
      ],
      "metadata": {
        "id": "sqVETi1aYI57"
      }
    },
    {
      "cell_type": "markdown",
      "source": [
        "## 1.1.5 Algebraic expressions, surds and approximations"
      ],
      "metadata": {
        "id": "8JuGQPVohb-J"
      }
    },
    {
      "cell_type": "markdown",
      "source": [
        "### `sympy` and continued fractions"
      ],
      "metadata": {
        "id": "5ZridIUX-rLY"
      }
    },
    {
      "cell_type": "code",
      "source": [
        "x = sym.symbols('x')\n",
        "a = sym.symbols('a0:6')\n",
        "a"
      ],
      "metadata": {
        "colab": {
          "base_uri": "https://localhost:8080/"
        },
        "id": "AmoIz1or-wpU",
        "outputId": "66555510-6049-473d-ad05-34234ac9868c"
      },
      "execution_count": 2,
      "outputs": [
        {
          "output_type": "execute_result",
          "data": {
            "text/plain": [
              "(a0, a1, a2, a3, a4, a5)"
            ]
          },
          "metadata": {},
          "execution_count": 2
        }
      ]
    },
    {
      "cell_type": "code",
      "source": [
        "def continued_fraction(depth):\n",
        "    frac = a[0]\n",
        "    for d in range(0, depth):\n",
        "        frac = frac.replace(a[d], a[d] + x/a[d+1])\n",
        "    return frac"
      ],
      "metadata": {
        "id": "rpf3yeca_HpY"
      },
      "execution_count": 3,
      "outputs": []
    },
    {
      "cell_type": "code",
      "source": [
        "continued_fraction(5)"
      ],
      "metadata": {
        "colab": {
          "base_uri": "https://localhost:8080/",
          "height": 71
        },
        "id": "b1KK9NaVCPGI",
        "outputId": "13b35f3a-1ff1-4c41-b7f5-d2f1d3b4e864"
      },
      "execution_count": 4,
      "outputs": [
        {
          "output_type": "execute_result",
          "data": {
            "text/plain": [
              "a0 + x/(a1 + x/(a2 + x/(a3 + x/(a4 + x/a5))))"
            ],
            "text/latex": "$\\displaystyle a_{0} + \\frac{x}{a_{1} + \\frac{x}{a_{2} + \\frac{x}{a_{3} + \\frac{x}{a_{4} + \\frac{x}{a_{5}}}}}}$"
          },
          "metadata": {},
          "execution_count": 4
        }
      ]
    },
    {
      "cell_type": "markdown",
      "source": [
        "### $\\sqrt{2}$ as a continued fraction"
      ],
      "metadata": {
        "id": "7tdBoVPMDZo2"
      }
    },
    {
      "cell_type": "code",
      "source": [
        "sym.sqrt(2).evalf()"
      ],
      "metadata": {
        "colab": {
          "base_uri": "https://localhost:8080/",
          "height": 37
        },
        "id": "Oi2UyULADgja",
        "outputId": "d98f8477-1e30-46aa-bf31-5475a060b449"
      },
      "execution_count": 5,
      "outputs": [
        {
          "output_type": "execute_result",
          "data": {
            "text/plain": [
              "1.41421356237310"
            ],
            "text/latex": "$\\displaystyle 1.4142135623731$"
          },
          "metadata": {},
          "execution_count": 5
        }
      ]
    },
    {
      "cell_type": "code",
      "source": [
        "(sym.sqrt(2) - 1).evalf()"
      ],
      "metadata": {
        "colab": {
          "base_uri": "https://localhost:8080/",
          "height": 37
        },
        "id": "Lk8V-UaLDwgR",
        "outputId": "9fbabe7b-f2c4-4f67-e78b-f600f55cf086"
      },
      "execution_count": 6,
      "outputs": [
        {
          "output_type": "execute_result",
          "data": {
            "text/plain": [
              "0.414213562373095"
            ],
            "text/latex": "$\\displaystyle 0.414213562373095$"
          },
          "metadata": {},
          "execution_count": 6
        }
      ]
    },
    {
      "cell_type": "markdown",
      "source": [
        "$$\n",
        "\\begin{align}\n",
        "\\frac{1}{\\sqrt{2} - 1}\n",
        "&= \\frac{1}{\\sqrt{2} - 1} \\cdot \\frac{\\sqrt{2} + 1}{\\sqrt{2} + 1} \\\\\n",
        "&= \\frac{\\sqrt{2} + 1}{2 - 1} \\\\\n",
        "&= \\sqrt{2} + 1\n",
        "\\end{align}\n",
        "$$\n",
        "\n",
        "Hence, \n",
        "\n",
        "$$\n",
        "\\frac{1}{\\sqrt{2} - 1} = \\sqrt{2} + 1\n",
        "$$\n",
        "\n",
        "And,\n",
        "\n",
        "$$\n",
        "\\sqrt{2} - 1 = \\frac{1}{\\sqrt{2} + 1}\n",
        "$$"
      ],
      "metadata": {
        "id": "usZoIjATEYVY"
      }
    },
    {
      "cell_type": "markdown",
      "source": [
        "$$\n",
        "\\begin{align}\n",
        "\\sqrt{2} - 1 &= \\frac{1}{\\sqrt{2} + 1} \\\\\n",
        "&= \\frac{1}{\\sqrt{2} - 1 + 1 + 1} \\\\\n",
        "&= \\frac{1}{\\left(\\sqrt{2} - 1\\right) + 2}\n",
        "\\end{align}\n",
        "$$\n",
        "\n",
        "Let $y = \\sqrt{2} - 1$ and notice the recursion.\n",
        "\n",
        "$$\n",
        "\\begin{align}\n",
        "y &= \\frac{1}{y + 2} \\\\\n",
        "&= \\frac{1}{2 + y}\n",
        "\\end{align}\n",
        "$$"
      ],
      "metadata": {
        "id": "KYDbuUonF4yl"
      }
    },
    {
      "cell_type": "code",
      "source": [
        "y = sym.symbols('y')\n",
        "y"
      ],
      "metadata": {
        "colab": {
          "base_uri": "https://localhost:8080/",
          "height": 39
        },
        "id": "gv4qbKl9IMUs",
        "outputId": "3107cfdb-f89f-41cd-fdf5-a00d6665c4ea"
      },
      "execution_count": 7,
      "outputs": [
        {
          "output_type": "execute_result",
          "data": {
            "text/plain": [
              "y"
            ],
            "text/latex": "$\\displaystyle y$"
          },
          "metadata": {},
          "execution_count": 7
        }
      ]
    },
    {
      "cell_type": "code",
      "source": [
        "def continued_y(depth):\n",
        "    y = sym.symbols('y')\n",
        "    frac = 1 / (2 + y)\n",
        "    for d in range(0, depth):\n",
        "        frac = frac.replace(y, 1 / (2 + y))\n",
        "    return frac\n",
        "\n",
        "continued_y(6)"
      ],
      "metadata": {
        "colab": {
          "base_uri": "https://localhost:8080/",
          "height": 93
        },
        "id": "e3-6p98QIQs6",
        "outputId": "c83d998b-71b0-44d5-a4c2-a62f8c30fb52"
      },
      "execution_count": 8,
      "outputs": [
        {
          "output_type": "execute_result",
          "data": {
            "text/plain": [
              "1/(2 + 1/(2 + 1/(2 + 1/(2 + 1/(2 + 1/(2 + 1/(y + 2)))))))"
            ],
            "text/latex": "$\\displaystyle \\frac{1}{2 + \\frac{1}{2 + \\frac{1}{2 + \\frac{1}{2 + \\frac{1}{2 + \\frac{1}{2 + \\frac{1}{y + 2}}}}}}}$"
          },
          "metadata": {},
          "execution_count": 8
        }
      ]
    },
    {
      "cell_type": "code",
      "source": [
        "sqrt2 = 1 + continued_y(4)\n",
        "sqrt2"
      ],
      "metadata": {
        "colab": {
          "base_uri": "https://localhost:8080/",
          "height": 79
        },
        "id": "ATLe_QVfME5a",
        "outputId": "f472c330-5f25-4236-ad41-584bc57ae2bf"
      },
      "execution_count": 9,
      "outputs": [
        {
          "output_type": "execute_result",
          "data": {
            "text/plain": [
              "1 + 1/(2 + 1/(2 + 1/(2 + 1/(2 + 1/(y + 2)))))"
            ],
            "text/latex": "$\\displaystyle 1 + \\frac{1}{2 + \\frac{1}{2 + \\frac{1}{2 + \\frac{1}{2 + \\frac{1}{y + 2}}}}}$"
          },
          "metadata": {},
          "execution_count": 9
        }
      ]
    },
    {
      "cell_type": "code",
      "source": [
        "sqrt2.subs(y, 0)"
      ],
      "metadata": {
        "colab": {
          "base_uri": "https://localhost:8080/",
          "height": 51
        },
        "id": "8uDnRMjPMKo9",
        "outputId": "d425534d-2ac1-42ba-cbc7-30db2efa7bf6"
      },
      "execution_count": 10,
      "outputs": [
        {
          "output_type": "execute_result",
          "data": {
            "text/plain": [
              "99/70"
            ],
            "text/latex": "$\\displaystyle \\frac{99}{70}$"
          },
          "metadata": {},
          "execution_count": 10
        }
      ]
    },
    {
      "cell_type": "code",
      "source": [
        "(sqrt2.subs(y, 0).evalf())**2 # very close to 2 as expected"
      ],
      "metadata": {
        "colab": {
          "base_uri": "https://localhost:8080/",
          "height": 37
        },
        "id": "1MKtgkFXNUaL",
        "outputId": "93b4e75d-8c89-4421-f326-ca6b8785e1c0"
      },
      "execution_count": 11,
      "outputs": [
        {
          "output_type": "execute_result",
          "data": {
            "text/plain": [
              "2.00020408163265"
            ],
            "text/latex": "$\\displaystyle 2.00020408163265$"
          },
          "metadata": {},
          "execution_count": 11
        }
      ]
    },
    {
      "cell_type": "code",
      "source": [
        "def sqrt2(depth):\n",
        "    y = sym.symbols('y')\n",
        "    frac = 1 / (2 + y)\n",
        "    for d in range(0, depth):\n",
        "        frac = frac.replace(y, 1 / (2 + y))\n",
        "    return 1 + frac.subs(y, 0).evalf()"
      ],
      "metadata": {
        "id": "VYmXUJUnOkDA"
      },
      "execution_count": 12,
      "outputs": []
    },
    {
      "cell_type": "code",
      "source": [
        "print(sym.sqrt(2).evalf(), '\\n')\n",
        "for depth in range(0, 10):\n",
        "    print(sqrt2(depth), sym.sqrt(2).evalf() - sqrt2(depth))"
      ],
      "metadata": {
        "colab": {
          "base_uri": "https://localhost:8080/"
        },
        "id": "N_eXEQZZO0vi",
        "outputId": "f0aab0e9-79b5-4e28-f369-1f416af19b1d"
      },
      "execution_count": 21,
      "outputs": [
        {
          "output_type": "stream",
          "name": "stdout",
          "text": [
            "1.41421356237310 \n",
            "\n",
            "1.50000000000000 -0.0857864376269049\n",
            "1.40000000000000 0.0142135623730952\n",
            "1.41666666666667 -0.00245310429357160\n",
            "1.41379310344828 0.000420458924819345\n",
            "1.41428571428571 -7.21519126190007e-5\n",
            "1.41420118343195 1.23789411425879e-5\n",
            "1.41421568627451 -2.12390141451912e-6\n",
            "1.41421319796954 3.64403552000070e-7\n",
            "1.41421362489487 -6.25217744243400e-8\n",
            "1.41421355164605 1.07270403670867e-8\n"
          ]
        }
      ]
    },
    {
      "cell_type": "markdown",
      "source": [
        "## 1.1.6 Reading: Algebraic expressions, surd and approximations"
      ],
      "metadata": {
        "id": "84vE6Az1RmrO"
      }
    },
    {
      "cell_type": "markdown",
      "source": [
        "### Definition: Continued Fraction\n",
        "\n",
        "A **continued fraction** is an expression obtained through an iterative process of representing a number as the sum of its integer part and the reciprocal of another number, then writing this other number as the sum of its integer part and another reciprocal, and so on.\n",
        "\n",
        "~ [Wikipedia](https://en.wikipedia.org/wiki/Continued_fraction)"
      ],
      "metadata": {
        "id": "Rqg5CweoR8Xn"
      }
    }
  ]
}