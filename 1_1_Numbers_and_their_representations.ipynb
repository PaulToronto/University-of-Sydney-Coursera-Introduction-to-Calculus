{
  "nbformat": 4,
  "nbformat_minor": 0,
  "metadata": {
    "colab": {
      "provenance": [],
      "toc_visible": true,
      "authorship_tag": "ABX9TyOZAvJY4xQ++5LOdfEza1tD",
      "include_colab_link": true
    },
    "kernelspec": {
      "name": "python3",
      "display_name": "Python 3"
    },
    "language_info": {
      "name": "python"
    }
  },
  "cells": [
    {
      "cell_type": "markdown",
      "metadata": {
        "id": "view-in-github",
        "colab_type": "text"
      },
      "source": [
        "<a href=\"https://colab.research.google.com/github/PaulToronto/University-of-Sydney-Coursera-Introduction-to-Calculus/blob/main/1_1_Numbers_and_their_representations.ipynb\" target=\"_parent\"><img src=\"https://colab.research.google.com/assets/colab-badge.svg\" alt=\"Open In Colab\"/></a>"
      ]
    },
    {
      "cell_type": "markdown",
      "source": [
        "# 1.1 Numbers and their representations"
      ],
      "metadata": {
        "id": "uDitllHUn982"
      }
    },
    {
      "cell_type": "code",
      "source": [
        "import sympy as sym"
      ],
      "metadata": {
        "id": "_A2KkCOFF2yL"
      },
      "execution_count": 1,
      "outputs": []
    },
    {
      "cell_type": "markdown",
      "source": [
        "## 1.1.1 Real line, decimals and significant figures"
      ],
      "metadata": {
        "id": "8_FcN6OvoFqd"
      }
    },
    {
      "cell_type": "markdown",
      "source": [
        "### Rules for handling approximations\n",
        "\n",
        "1. When adding or subtracting, quote your answer to the least number of decimal places.\n",
        "\n",
        "$$\n",
        "\\begin{align}\n",
        "9.4\\text{ cm} + 2.13\\text{ cm} &= 11.53\\text{ cm} \\\\\n",
        "&\\approx 11.5\\text{ cm}\n",
        "\\end{align}\n",
        "$$\n",
        "\n",
        "$$\n",
        "\\begin{align}\n",
        "9.4\\text{ cm} - 2.13\\text{ cm} &= 7.27\\text{ cm} \\\\\n",
        "&\\approx 7.3\\text{ cm}\n",
        "\\end{align}\n",
        "$$"
      ],
      "metadata": {
        "id": "wPZk40XhuwCa"
      }
    },
    {
      "cell_type": "markdown",
      "source": [
        "2. When multiplying or dividing, quote your answer to the least number of significant figures.\n",
        "\n",
        "$$\n",
        "\\begin{align}\n",
        "\\text{Area} &= 9.4\\text{ cm } \\times 2.13 \\text{ cm} \\\\\n",
        "&= 20.022\\text{ cm}^{2} \\\\\n",
        "&\\approx 20\\text{ cm}^{2} \\\\\n",
        "\\end{align} \n",
        "$$"
      ],
      "metadata": {
        "id": "qBm8TcPowUlh"
      }
    },
    {
      "cell_type": "markdown",
      "source": [
        "The answer above is not explicit about the number of sigificant figures. To be explicit that we want to express the answer with 2 significant figures we write:\n",
        "\n",
        "$$\n",
        "\\text{Area} = 2.0 \\times 10\\text{ cm}^{2}\n",
        "$$\n",
        "\n",
        "To indicate that we only want only 1 significant figure, we write:\n",
        "\n",
        "$$\n",
        "\\text{Area} = 2 \\times 10\\text{ cm}^{2}\n",
        "$$"
      ],
      "metadata": {
        "id": "AXkPrhSC08pp"
      }
    },
    {
      "cell_type": "markdown",
      "source": [
        "#### Example\n",
        "\n",
        "The radius of the earth is $6,370,000$ metres. How many of those 0s are significant? Only three of them, so to be explicit we express it like this: $6.37 \\times 10^{6}$ metres. \n",
        "\n"
      ],
      "metadata": {
        "id": "qq88xNXW19ga"
      }
    },
    {
      "cell_type": "markdown",
      "source": [
        "## 1.1.2 Reading: Real line, decimals and signifcant figures"
      ],
      "metadata": {
        "id": "SyfVXfJt4N2q"
      }
    },
    {
      "cell_type": "markdown",
      "source": [
        "### Selection of useful facts\n",
        "\n",
        "1. $A \\subseteq B$: A is a subset of B\n",
        "2. $A = B \\iff A \\subseteq B \\text{ and } B \\subseteq A$\n",
        "3. $A \\cap B = \\{x|x \\in A \\text{ and } x \\in B\\}$\n",
        "    - called the **intersection** of $A$ and $B$\n",
        "4. $A \\cup B = \\{x|x \\in A \\text{ or } x \\in B\\}$\n",
        "    - called the **union** of $A$ and $B$\n",
        "5. $A\\text{ \\\\ }B = \\{x|x \\in A \\text{ and } x \\not\\in B\\}$\n",
        "    - called **A slash B**\n",
        "6. $\\mathbb{N}$ is the set of **natural numbers**: $\\{0, 1, 2, 3,...\\}$\n",
        "    - closed under addition, subtraction, multiplication and division\n",
        "7. $\\mathbb{Z}$ is the set of **integers**: $\\{\\pm0, \\pm1, \\pm2, \\pm3,...\\}$\n",
        "    - closed under addition, subtraction and multiplication\n",
        "8. $\\mathbb{Q}$ is the set of **rational numbers**: $\\{a\\text{/}b|a, b \\in \\mathbb{Z}, b \\ne 0\\}$\n",
        "    - closed under addition, substraction and multiplication, and closed under division by nonzero elements\n",
        "9. **Significant figures**: the number of digits counted to the right from the leftmost positive digit\n",
        "    - $26.103$: 5 significant figures\n",
        "    - $0.00304$: 3 significant figures\n",
        "    - $0.003040$: 4 singificant figures\n",
        "10. Use **scientific notation** to avoid amiguity in the number of signifcant figures\n"
      ],
      "metadata": {
        "id": "gbdkcQEp4uVy"
      }
    },
    {
      "cell_type": "markdown",
      "source": [
        "### Example\n",
        "\n",
        "Express $\\alpha = 3.\\overline{1}4 = 3.1414...$ as a fraction.\n",
        "\n",
        "#### Solution\n",
        "\n",
        "$\n",
        "\\begin{align}\n",
        "100\\alpha  - \\alpha &= 314.\\overline{1}4 - 3.\\overline{1}4 \\\\\n",
        "&= 311\n",
        "\\end{align}\n",
        "$\n",
        "\n",
        "$\\therefore$\n",
        "\n",
        "$\n",
        "\\begin{align}\n",
        "99\\alpha = 311 \\implies \\alpha = \\frac{311}{99}\n",
        "\\end{align}\n",
        "$"
      ],
      "metadata": {
        "id": "qEfsClvWBRHM"
      }
    },
    {
      "cell_type": "markdown",
      "source": [
        "## 1.1.3 The Theorem of Pythagoras and properties of the square root of 2"
      ],
      "metadata": {
        "id": "ZB7H8ZXVK0SS"
      }
    },
    {
      "cell_type": "markdown",
      "source": [
        "### Proof that $\\sqrt{2}$ is irrational:\n",
        "\n",
        "Suppose that $\\sqrt{2}$ is rational which means that it can be expressed as a fraction, in reduced form, where $a$ and $b$ are postive integers. Since it is in reduced form, $a$ and $b$ have no common divisers.\n",
        "\n",
        "$$\n",
        "\\begin{align}\n",
        "\\sqrt{2} = \\frac{a}{b}\n",
        "&\\implies 2 = \\frac{a^{2}}{b^{2}} \\\\\n",
        "&\\implies 2b^{2} = a^{2} \\\\\n",
        "&\\implies a^{2} \\text{ is an even integer}\n",
        "\\end{align}\n",
        "$$\n",
        "\n",
        "Suppose $a$ is an odd integer, that is $a = 2k + 1$\n",
        "\n",
        "$$\n",
        "\\begin{align}\n",
        "a^{2} &= (2k + 1)^{2} \\\\\n",
        "&= 4k^{2} + 4k + 1 \\\\\n",
        "&= 2(2k^{2} + 2k) + 1 \\\\\n",
        "&\\implies a^{2} \\text{ is and odd integer}\n",
        "\\end{align}\n",
        "$$\n",
        "\n",
        "This contracts that $a$ is even.\n",
        "\n",
        "$\\therefore a$ is even, say $a = 2c$ for some integer $c$. \n",
        "\n",
        "$$\n",
        "\\begin{align}\n",
        "2b^{2} = a^{2} &\\implies \n",
        "2b^{2} = (2c)^{2} \\\\\n",
        "&\\implies 2b^{2} = 4c^{2} \\\\\n",
        "&\\implies b^{2} = 2c^{2} \\\\\n",
        "&\\implies b\\text{ is even, by the same argument that }a \\text{ is even} \\\\\n",
        "&\\implies a \\text{ and } b \\text{ have common divisor } 2\n",
        "\\end{align}\n",
        "$$\n",
        "\n",
        "But $a$ and $b$ have no common divisors.\n",
        "\n",
        "$\\therefore \\sqrt{2}$ is irrational. Q.E.D. "
      ],
      "metadata": {
        "id": "LlAvjUBKP0y9"
      }
    },
    {
      "cell_type": "markdown",
      "source": [
        "## 1.1.4 Reading: The Theorem of Pythagoras and properties of the square root of 2"
      ],
      "metadata": {
        "id": "nObDSfv_X_yX"
      }
    },
    {
      "cell_type": "markdown",
      "source": [
        "### Selection of useful facts\n",
        "\n",
        "1. **Surds**: Any expression involving square roots (or cube roots, etc.) is called a **surd expression**.\n",
        "2. **Theorem of Pytagoras**: If $c$ is the hypotenuse of a right angled triangle, and $a$ and $b$ are the other two sides, then $c^{2} = a^{2} + b^{2}$\n",
        "3. **Irrational surds**: if $n \\in \\mathbb{N}$ then $\\sqrt{n}$ is rational if an only if $n$ is a perfect square. "
      ],
      "metadata": {
        "id": "sqVETi1aYI57"
      }
    },
    {
      "cell_type": "markdown",
      "source": [
        "## 1.1.5 Algebraic expressions, surds and approximations"
      ],
      "metadata": {
        "id": "8JuGQPVohb-J"
      }
    }
  ]
}